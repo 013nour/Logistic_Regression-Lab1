{
 "cells": [
  {
   "cell_type": "markdown",
   "id": "f86e614a",
   "metadata": {},
   "source": [
    "# Exercise 0 : Import Libraries"
   ]
  },
  {
   "cell_type": "code",
   "execution_count": null,
   "id": "1b50ba79",
   "metadata": {},
   "outputs": [],
   "source": []
  },
  {
   "cell_type": "markdown",
   "id": "3d928ac2",
   "metadata": {},
   "source": [
    "# Exercise 1 : Read the Dataset"
   ]
  },
  {
   "cell_type": "code",
   "execution_count": null,
   "id": "cff95582",
   "metadata": {},
   "outputs": [],
   "source": []
  },
  {
   "cell_type": "markdown",
   "id": "a68012bb",
   "metadata": {},
   "source": [
    "# Exercise 2 : Drop Unnamed: 0 column"
   ]
  },
  {
   "cell_type": "code",
   "execution_count": null,
   "id": "9c9a61a8",
   "metadata": {},
   "outputs": [],
   "source": []
  },
  {
   "cell_type": "markdown",
   "id": "9cb75e8c",
   "metadata": {},
   "source": [
    "# Exercise 3 : EDA\n",
    "\n",
    "1. Basic info.\n",
    "2. Number of rows and columns.\n",
    "3. Statistical describtion.\n",
    "4. Columns names.\n",
    "5. Explore the columns ca and thal using any technique."
   ]
  },
  {
   "cell_type": "code",
   "execution_count": null,
   "id": "30e1c0e4",
   "metadata": {},
   "outputs": [],
   "source": []
  },
  {
   "cell_type": "markdown",
   "id": "acf76c7e",
   "metadata": {},
   "source": [
    "# Exercise 4 : Handle missing data"
   ]
  },
  {
   "cell_type": "code",
   "execution_count": null,
   "id": "9b57ea21",
   "metadata": {},
   "outputs": [],
   "source": []
  },
  {
   "cell_type": "markdown",
   "id": "f67286ce",
   "metadata": {},
   "source": [
    "# Exercise 5 : Handle Features\n",
    "\n",
    "- Use one method between these two methods for the object type columns :-\n",
    "    1. Convert data type to numeric.\n",
    "    2. One hot encoding."
   ]
  },
  {
   "cell_type": "code",
   "execution_count": null,
   "id": "15611c7a",
   "metadata": {},
   "outputs": [],
   "source": []
  },
  {
   "cell_type": "markdown",
   "id": "82da860b",
   "metadata": {},
   "source": [
    "# Exercise 6 : Remove Outliers (If exists)\n",
    "\n",
    "- Use box plots for some continuous data."
   ]
  },
  {
   "cell_type": "code",
   "execution_count": null,
   "id": "bd9bcf1b",
   "metadata": {},
   "outputs": [],
   "source": []
  },
  {
   "cell_type": "markdown",
   "id": "f626d547",
   "metadata": {},
   "source": [
    "# Exercise 7 : Feature Selection using Correlation Matrix\n",
    "\n",
    "1. Calculate the Correlation Matrix.\n",
    "2. Identify Highly Correlated Features.\n",
    "    - The threshold is 0.6\n",
    "3. Remove Highly Correlated Features."
   ]
  },
  {
   "cell_type": "code",
   "execution_count": null,
   "id": "26be7b88",
   "metadata": {},
   "outputs": [],
   "source": []
  },
  {
   "cell_type": "markdown",
   "id": "91214e17",
   "metadata": {},
   "source": [
    "# Exercise 8 : X and Y split, then train and test split"
   ]
  },
  {
   "cell_type": "code",
   "execution_count": null,
   "id": "0cc0c72b",
   "metadata": {},
   "outputs": [],
   "source": []
  },
  {
   "cell_type": "markdown",
   "id": "8ad4781b",
   "metadata": {},
   "source": [
    "# Exercise 9 : Train the model"
   ]
  },
  {
   "cell_type": "code",
   "execution_count": null,
   "id": "a2629be5",
   "metadata": {},
   "outputs": [],
   "source": []
  },
  {
   "cell_type": "markdown",
   "id": "c69a38bb",
   "metadata": {},
   "source": [
    "# Exercise 10 : Evaluate the model\n",
    "\n",
    "1. Find the score of the training data.\n",
    "2. Find the scores of the testing data :-\n",
    "    - Find the accuracy.\n",
    "    - Find the Sensitivity.\n",
    "    - Find the Specificity.\n",
    "    - Find the Sensitivity/Specificity.\n",
    "    - Find the AUC-ROC."
   ]
  },
  {
   "cell_type": "code",
   "execution_count": null,
   "id": "a7f7d588",
   "metadata": {},
   "outputs": [],
   "source": []
  },
  {
   "cell_type": "markdown",
   "id": "41451d51",
   "metadata": {},
   "source": [
    "# Exercise 11 : Find the wights and y intercept"
   ]
  },
  {
   "cell_type": "code",
   "execution_count": null,
   "id": "468f0919",
   "metadata": {},
   "outputs": [],
   "source": []
  },
  {
   "cell_type": "markdown",
   "id": "71e67fdd",
   "metadata": {},
   "source": [
    "# Exercise 12 : Plot the model complexity\n",
    "\n",
    "- Is the model overfit? Underfit? Good? Explain"
   ]
  },
  {
   "cell_type": "code",
   "execution_count": null,
   "id": "753e1405",
   "metadata": {},
   "outputs": [],
   "source": []
  },
  {
   "cell_type": "markdown",
   "id": "586fd49c",
   "metadata": {},
   "source": [
    "# Exercise 13 : Use Regularizations\n",
    "\n",
    "1. Build three models with Lasso Regularization and three different lambda values.\n",
    "2. Build three models with Ridge Regularization and three different lambda values.\n",
    "3. Build three models with Elastic-net Regularization and three different lambda values.\n",
    "\n",
    "In general, you need to build 9 models with different Regularizations and different lambda values.\n",
    "\n",
    "Do not forget to evaluate them (find accuracy, recall, precision, f1 score, AUC-ROC)."
   ]
  },
  {
   "cell_type": "code",
   "execution_count": null,
   "id": "81f8beb5",
   "metadata": {},
   "outputs": [],
   "source": []
  }
 ],
 "metadata": {
  "kernelspec": {
   "display_name": "Python 3 (ipykernel)",
   "language": "python",
   "name": "python3"
  },
  "language_info": {
   "codemirror_mode": {
    "name": "ipython",
    "version": 3
   },
   "file_extension": ".py",
   "mimetype": "text/x-python",
   "name": "python",
   "nbconvert_exporter": "python",
   "pygments_lexer": "ipython3",
   "version": "3.9.12"
  }
 },
 "nbformat": 4,
 "nbformat_minor": 5
}
